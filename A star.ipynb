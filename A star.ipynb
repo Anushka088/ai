{
 "cells": [
  {
   "cell_type": "code",
   "execution_count": 1,
   "id": "fb25d436",
   "metadata": {},
   "outputs": [],
   "source": [
    "graph=[['A','B',1,3],\n",
    "      ['A','C',2,4],\n",
    "      ['A','H',7,0],\n",
    "      ['B','D',4,2],\n",
    "      ['B','E',6,6],\n",
    "      ['C','F',3,3],\n",
    "      ['C','G',2,1],\n",
    "      ['D','E',7,6],\n",
    "      ['D','H',5,0],\n",
    "      ['F','H',1,0],\n",
    "      ['G','H',2,0]]"
   ]
  },
  {
   "cell_type": "code",
   "execution_count": 2,
   "id": "5196a3c2",
   "metadata": {},
   "outputs": [],
   "source": [
    "temp=[]\n",
    "temp1=[]\n",
    "for i in graph:\n",
    "    temp.append(i[0])\n",
    "    temp1.append(i[1])"
   ]
  },
  {
   "cell_type": "code",
   "execution_count": 4,
   "id": "292608a3",
   "metadata": {},
   "outputs": [
    {
     "name": "stdout",
     "output_type": "stream",
     "text": [
      "['A', 'A', 'A', 'B', 'B', 'C', 'C', 'D', 'D', 'F', 'G']\n"
     ]
    }
   ],
   "source": [
    "print(temp)"
   ]
  },
  {
   "cell_type": "code",
   "execution_count": 6,
   "id": "9cde49e4",
   "metadata": {},
   "outputs": [
    {
     "name": "stdout",
     "output_type": "stream",
     "text": [
      "['B', 'C', 'H', 'D', 'E', 'F', 'G', 'E', 'H', 'H', 'H']\n"
     ]
    }
   ],
   "source": [
    "print(temp1)"
   ]
  },
  {
   "cell_type": "code",
   "execution_count": 8,
   "id": "67593824",
   "metadata": {},
   "outputs": [],
   "source": [
    "nodes=set(temp).union(set(temp1))"
   ]
  },
  {
   "cell_type": "code",
   "execution_count": 10,
   "id": "5670af8b",
   "metadata": {},
   "outputs": [
    {
     "data": {
      "text/plain": [
       "{'A', 'B', 'C', 'D', 'E', 'F', 'G', 'H'}"
      ]
     },
     "execution_count": 10,
     "metadata": {},
     "output_type": "execute_result"
    }
   ],
   "source": [
    "nodes"
   ]
  },
  {
   "cell_type": "code",
   "execution_count": 18,
   "id": "96d67253",
   "metadata": {},
   "outputs": [],
   "source": [
    "def A_star(graph, costs, open, closed, cur_node):\n",
    "    if cur_node in open:\n",
    "        open.remove(cur_node)\n",
    "    closed.add(cur_node)\n",
    "    for i in graph:\n",
    "        #print(costs)\n",
    "        if(i[0]==cur_node and costs[i[0]]+i[2]+i[3]<costs[i[1]]):\n",
    "            open.add(i[1])\n",
    "            costs[i[1]]=costs[i[0]]+i[2]+i[3]\n",
    "            path[i[1]]=path[i[0]]+'->'+i[1]\n",
    "    costs[cur_node]=999999\n",
    "    small=min(costs, key=costs.get)\n",
    "    if small not in closed:\n",
    "        A_star(graph, costs, open, closed, small)\n",
    "costs=dict()\n",
    "temp_cost=dict()\n",
    "path=dict()\n",
    "for i in nodes:\n",
    "    costs[i]=999999\n",
    "    path[i]=' '"
   ]
  },
  {
   "cell_type": "code",
   "execution_count": 21,
   "id": "73d769c4",
   "metadata": {},
   "outputs": [
    {
     "name": "stdout",
     "output_type": "stream",
     "text": [
      "Enter the Start Node: A\n"
     ]
    }
   ],
   "source": [
    "open=set()\n",
    "closed=set()\n",
    "start_node=input(\"Enter the Start Node: \")\n",
    "open.add(start_node)"
   ]
  },
  {
   "cell_type": "code",
   "execution_count": 22,
   "id": "44720d44",
   "metadata": {},
   "outputs": [],
   "source": [
    "path[start_node]=start_node\n",
    "costs[start_node]=0"
   ]
  },
  {
   "cell_type": "code",
   "execution_count": 23,
   "id": "0d422c77",
   "metadata": {},
   "outputs": [
    {
     "name": "stdout",
     "output_type": "stream",
     "text": [
      "Enter the Goal Node: H\n",
      "Path with least cost is:  A->C->G->H\n"
     ]
    }
   ],
   "source": [
    "A_star(graph, costs, open, closed, start_node)\n",
    "goal_node=input(\"Enter the Goal Node: \")\n",
    "print(\"Path with least cost is: \",path[goal_node])"
   ]
  }
 ],
 "metadata": {
  "kernelspec": {
   "display_name": "Python 3 (ipykernel)",
   "language": "python",
   "name": "python3"
  },
  "language_info": {
   "codemirror_mode": {
    "name": "ipython",
    "version": 3
   },
   "file_extension": ".py",
   "mimetype": "text/x-python",
   "name": "python",
   "nbconvert_exporter": "python",
   "pygments_lexer": "ipython3",
   "version": "3.11.4"
  }
 },
 "nbformat": 4,
 "nbformat_minor": 5
}
